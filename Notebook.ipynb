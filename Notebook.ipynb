{
 "cells": [
  {
   "cell_type": "markdown",
   "metadata": {},
   "source": [
    "# Azure Data Explorer Condition-based Alerting\n",
    "\n",
    "> POC: Designed to read incoming data (via an Azure Function) every 5 seconds and run a series of pre-defined rules against it. If the condition matched, and a record is part of the result set for that alert query, an alert will be written into the AlertOutput table."
   ]
  },
  {
   "cell_type": "code",
   "execution_count": null,
   "metadata": {},
   "outputs": [],
   "source": [
    "# Install Python dependencies\n",
    "%pip install azure-kusto-data pandas"
   ]
  },
  {
   "cell_type": "code",
   "execution_count": 116,
   "metadata": {},
   "outputs": [],
   "source": [
    "# Import dependencies\n",
    "from azure.kusto.data import KustoClient, KustoConnectionStringBuilder\n",
    "from azure.kusto.data.helpers import dataframe_from_result_table\n",
    "from datetime import datetime\n",
    "import uuid"
   ]
  },
  {
   "cell_type": "code",
   "execution_count": 99,
   "metadata": {},
   "outputs": [],
   "source": [
    "# Connect to ADX\n",
    "cluster = \"\"\n",
    "client_id = \"\"\n",
    "client_secret = \"\"\n",
    "authority_id = \"\"\n",
    "\n",
    "kcsb = KustoConnectionStringBuilder.with_aad_application_key_authentication(cluster, client_id, client_secret, authority_id)\n",
    "\n",
    "# Kusto Client\n",
    "Client = KustoClient(kcsb)\n",
    "database = \"\""
   ]
  },
  {
   "cell_type": "code",
   "execution_count": 143,
   "metadata": {},
   "outputs": [],
   "source": [
    "# Get the rules we want to evaluate\n",
    "get_rules_query = \"AlertRules | where RuleId == '42889516-6361-46e5-a0f5-a88a70749294'\"\n",
    "response = Client.execute(database, get_rules_query)\n",
    "rules = dataframe_from_result_table(response.primary_results[0]) # This dataframe will contain the rules to assess\n",
    "#print(rules)"
   ]
  },
  {
   "cell_type": "code",
   "execution_count": 147,
   "metadata": {},
   "outputs": [
    {
     "name": "stdout",
     "output_type": "stream",
     "text": [
      "Assessing rule: Temp between 20-25 Degrees\n",
      "Query to run: 'CuratedTelemetry | count'\n",
      "The alert condition was met. Generating Alert..\n",
      "     Count\n",
      "0  1004409\n"
     ]
    }
   ],
   "source": [
    "# Alerts to be written to the Alerts table\n",
    "alerts = []\n",
    "\n",
    "# Evaluate the rules\n",
    "for index, rule in rules.iterrows():\n",
    "    # For each rule..\n",
    "    print(f\"Assessing rule: {rule['AlertName']}\")\n",
    "    print(f\"Query to run: '{rule['Query']}'\")\n",
    "\n",
    "    # Run the query defined in this rule\n",
    "    response = Client.execute(database, rule['Query'])\n",
    "    # Will contain the result set where the condition was true\n",
    "    result_set = dataframe_from_result_table(response.primary_results[0])\n",
    "\n",
    "    if (result_set.empty):\n",
    "        print('Alert condition not met, moving on to the next rule..')\n",
    "    else:\n",
    "        print('The alert condition was met. Generating Alert..')\n",
    "        print(result_set)\n",
    "        # TODO: Do something now that we know the condition is true.\n",
    "    \n",
    "        # Output: {id}, {rule_id}, {rule_name}, {importance}, {email_to}, {generated_at}\n",
    "        out_alert = f\"'{uuid.uuid4()}', '{rule['RuleId']}', '{rule['AlertName']}', '{rule['Importance']}', '{rule['AlertOwner']}'\"\n",
    "        # Append to alerts so that we can write it to the table later\n",
    "        alerts.append(out_alert)\n",
    "\n",
    "# Write the alert to the table\n",
    "if (len(alerts) > 0):\n",
    "    # TODO: Write to Alerts table\n",
    "\n",
    "    # write_alerts_query = f\".set-or-append async AlertOutput <| print {alerts[0]}\"\n",
    "    # Client.execute(database, write_alerts_query)\n"
   ]
  }
 ],
 "metadata": {
  "kernelspec": {
   "display_name": "Python 3.9.2 64-bit",
   "language": "python",
   "name": "python3"
  },
  "language_info": {
   "codemirror_mode": {
    "name": "ipython",
    "version": 3
   },
   "file_extension": ".py",
   "mimetype": "text/x-python",
   "name": "python",
   "nbconvert_exporter": "python",
   "pygments_lexer": "ipython3",
   "version": "3.9.2"
  },
  "orig_nbformat": 4,
  "vscode": {
   "interpreter": {
    "hash": "06ae99a892fdaa8a0fdbe233f2004798a4f54b06990bfefc4a7e310d5e5b2138"
   }
  }
 },
 "nbformat": 4,
 "nbformat_minor": 2
}
